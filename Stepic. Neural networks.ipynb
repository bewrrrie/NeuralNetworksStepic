{
 "cells": [
  {
   "cell_type": "code",
   "execution_count": 1,
   "metadata": {},
   "outputs": [],
   "source": [
    "import numpy as np\n",
    "import pandas as pd\n",
    "import matplotlib.pyplot as plt"
   ]
  },
  {
   "cell_type": "markdown",
   "metadata": {},
   "source": [
    "# Linear Regression \n",
    "using Best Linear Unbiased Estimation (BLUE) \n",
    "### y(x) = x * weights_vector + error_vector "
   ]
  },
  {
   "cell_type": "code",
   "execution_count": 2,
   "metadata": {},
   "outputs": [],
   "source": [
    "def get_linear_weights(X, y):\n",
    "    X_ = np.hstack([np.ones((X.shape[0],1)),X])\n",
    "    w = np.linalg.inv(X_.T.dot(X_)).dot((X_.T).dot(y))\n",
    "    return w.flatten()"
   ]
  },
  {
   "cell_type": "code",
   "execution_count": 3,
   "metadata": {},
   "outputs": [],
   "source": [
    "def get_linear_approx(X_train, y):\n",
    "    w = get_linear_weights(X_train, y)\n",
    "    dot = lambda t: w[1:].dot(t)\n",
    "    return lambda z: w[0] + np.apply_along_axis(func1d=dot,\n",
    "                                                axis=1,\n",
    "                                                arr=np.expand_dims(z,axis=1) if len(z.shape)==1 else z)"
   ]
  },
  {
   "cell_type": "markdown",
   "metadata": {},
   "source": [
    "First example:"
   ]
  },
  {
   "cell_type": "code",
   "execution_count": 4,
   "metadata": {},
   "outputs": [
    {
     "data": {
      "text/plain": [
       "<matplotlib.collections.PathCollection at 0x7f0138678be0>"
      ]
     },
     "execution_count": 4,
     "metadata": {},
     "output_type": "execute_result"
    },
    {
     "data": {
      "image/png": "[encoded data removed]",
      "text/plain": [
       "<Figure size 504x360 with 1 Axes>"
      ]
     },
     "metadata": {
      "needs_background": "light"
     },
     "output_type": "display_data"
    }
   ],
   "source": [
    "X_train = np.array([[60], [50], [75]])\n",
    "y_train = np.array([10, 7, 12])\n",
    "\n",
    "f = get_linear_approx(X_train, y_train)\n",
    "x = np.linspace(0, 100, 1000)\n",
    "\n",
    "plt.figure(figsize=(7,5))\n",
    "plt.plot(x, f(x))\n",
    "plt.scatter(X_train.reshape((3)), y_train.reshape((3)))"
   ]
  },
  {
   "cell_type": "markdown",
   "metadata": {},
   "source": [
    "Uniformly generated example:"
   ]
  },
  {
   "cell_type": "code",
   "execution_count": 5,
   "metadata": {},
   "outputs": [
    {
     "name": "stdout",
     "output_type": "stream",
     "text": [
      "[ 0.3475156   1.01705654  0.66250425  1.32582126  0.6400199  -0.36700078\n",
      "  0.13058605  0.64262081  0.38104818  0.45198211  0.09292706]\n"
     ]
    }
   ],
   "source": [
    "X_train = np.random.uniform(size=(100,2))\n",
    "y_train = np.random.uniform(size=(100,1))\n",
    "\n",
    "f = get_linear_approx(X_train, y_train)\n",
    "x = np.random.normal(size=(100,2))\n",
    "\n",
    "print(f(x[3:14,:])) # print 11 answers"
   ]
  },
  {
   "cell_type": "markdown",
   "metadata": {},
   "source": [
    "Boston houses dataset example:"
   ]
  },
  {
   "cell_type": "code",
   "execution_count": 6,
   "metadata": {},
   "outputs": [
    {
     "name": "stdout",
     "output_type": "stream",
     "text": [
      "[ -3.65580429  -0.2163955    0.0737306    4.41245058 -25.46844878\n",
      "   7.14320155  -1.30108768]\n"
     ]
    }
   ],
   "source": [
    "data = np.array(pd.read_csv('data/boston_houses.csv'))\n",
    "X = data[:,1:]\n",
    "y = data[:,0]\n",
    "\n",
    "print(get_linear_weights(X, y)) # print linear function coefficients"
   ]
  },
  {
   "cell_type": "markdown",
   "metadata": {},
   "source": [
    "# Perceptron"
   ]
  },
  {
   "cell_type": "code",
   "execution_count": 77,
   "metadata": {},
   "outputs": [],
   "source": [
    "def get_perceptron_weights(X, y, w_init=None):\n",
    "    w = np.random.uniform(size=(X.shape[1] + 1)) if w_init is None else w_init\n",
    "    percept = lambda x, w: 1 if w.dot(x) > 0 else 0\n",
    "    perfect = False\n",
    "\n",
    "    while not perfect:\n",
    "        perfect = True\n",
    "\n",
    "        for i in range(X.shape[0]):\n",
    "            x = np.hstack([[1], X[i]])\n",
    "            pred = percept(x, w)\n",
    "\n",
    "            if pred != y[i]:\n",
    "                perfect = False\n",
    "                w += x if pred == 0 else (-x)\n",
    "\n",
    "    return w"
   ]
  },
  {
   "cell_type": "code",
   "execution_count": 78,
   "metadata": {},
   "outputs": [],
   "source": [
    "def get_perceptron(X, y, w_init=None):\n",
    "    w = get_perceptron_weights(X, y, w_init)\n",
    "    return lambda x: 1 if w.dot(np.hstack([[1], x])) > 0 else 0"
   ]
  },
  {
   "cell_type": "markdown",
   "metadata": {},
   "source": [
    "Logical AND function example:"
   ]
  },
  {
   "cell_type": "code",
   "execution_count": 84,
   "metadata": {
    "scrolled": true
   },
   "outputs": [
    {
     "name": "stdout",
     "output_type": "stream",
     "text": [
      "[0 0] ~> 0\n",
      "[0 1] ~> 0\n",
      "[1 0] ~> 0\n",
      "[1 1] ~> 1\n"
     ]
    }
   ],
   "source": [
    "X = np.array([[0, 0],\n",
    "              [0, 1],\n",
    "              [1, 0],\n",
    "              [1, 1]])\n",
    "y = np.array([0, 0, 0, 1])\n",
    "p = get_perceptron(X, y)\n",
    "\n",
    "for x in X[:]:\n",
    "    print('{} ~> {}'.format(x, p(x)))"
   ]
  },
  {
   "cell_type": "code",
   "execution_count": null,
   "metadata": {},
   "outputs": [],
   "source": []
  },
  {
   "cell_type": "code",
   "execution_count": null,
   "metadata": {},
   "outputs": [],
   "source": []
  }
 ],
 "metadata": {
  "kernelspec": {
   "display_name": "Python 3",
   "language": "python",
   "name": "python3"
  },
  "language_info": {
   "codemirror_mode": {
    "name": "ipython",
    "version": 3
   },
   "file_extension": ".py",
   "mimetype": "text/x-python",
   "name": "python",
   "nbconvert_exporter": "python",
   "pygments_lexer": "ipython3",
   "version": "3.5.2"
  }
 },
 "nbformat": 4,
 "nbformat_minor": 2
}
